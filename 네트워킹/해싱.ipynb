{
 "cells": [
  {
   "cell_type": "code",
   "execution_count": 9,
   "metadata": {},
   "outputs": [
    {
     "name": "stdout",
     "output_type": "stream",
     "text": [
      "75\n",
      "105\n",
      "109\n"
     ]
    }
   ],
   "source": [
    "for i in 'Kim':\n",
    "    print(ord(i))"
   ]
  },
  {
   "cell_type": "code",
   "execution_count": 3,
   "metadata": {},
   "outputs": [],
   "source": [
    "class Hashtable: \n",
    "    def __init__(self): \n",
    "        self.table = [None for _ in range(139)] \n",
    "        \n",
    "    def simple_hash(self, name): \n",
    "        sum = 0 \n",
    "        for letter in name: \n",
    "            sum += ord(letter) # 문자의 아스키 코드 값을 돌려주는 함수\n",
    "        return sum % len(self.table) \n",
    "    \n",
    "    def put(self, name, num): \n",
    "        self.table[self.simple_hash(name)] = num \n",
    "        \n",
    "    def show(self): \n",
    "        for idx, value in enumerate(self.table): \n",
    "            if value: # is not None \n",
    "                print(idx, value) \n",
    "                \n",
    "    def find(self, name): \n",
    "        return self.table[self.simple_hash(name)]"
   ]
  },
  {
   "cell_type": "code",
   "execution_count": 17,
   "metadata": {},
   "outputs": [],
   "source": [
    "boo = Hashtable() \n",
    "boo.put('KimChangmin', '010-2503-2160')\n"
   ]
  },
  {
   "cell_type": "code",
   "execution_count": 18,
   "metadata": {},
   "outputs": [],
   "source": [
    "boo.put('Kim', '010-2503-2160')"
   ]
  },
  {
   "cell_type": "code",
   "execution_count": 19,
   "metadata": {},
   "outputs": [
    {
     "name": "stdout",
     "output_type": "stream",
     "text": [
      "11 010-2503-2160\n",
      "121 010-2503-2160\n"
     ]
    }
   ],
   "source": [
    "boo.show()"
   ]
  },
  {
   "cell_type": "code",
   "execution_count": 24,
   "metadata": {},
   "outputs": [
    {
     "data": {
      "text/plain": [
       "'010-2503-2160'"
      ]
     },
     "execution_count": 24,
     "metadata": {},
     "output_type": "execute_result"
    }
   ],
   "source": [
    "boo.find('Kim')"
   ]
  },
  {
   "cell_type": "code",
   "execution_count": null,
   "metadata": {},
   "outputs": [],
   "source": []
  }
 ],
 "metadata": {
  "kernelspec": {
   "display_name": "Python 3",
   "language": "python",
   "name": "python3"
  },
  "language_info": {
   "codemirror_mode": {
    "name": "ipython",
    "version": 3
   },
   "file_extension": ".py",
   "mimetype": "text/x-python",
   "name": "python",
   "nbconvert_exporter": "python",
   "pygments_lexer": "ipython3",
   "version": "3.7.3"
  }
 },
 "nbformat": 4,
 "nbformat_minor": 2
}
