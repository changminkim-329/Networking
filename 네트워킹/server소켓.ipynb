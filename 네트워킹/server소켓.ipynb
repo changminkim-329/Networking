{
 "cells": [
  {
   "cell_type": "code",
   "execution_count": 1,
   "metadata": {},
   "outputs": [],
   "source": [
    "from socket import *"
   ]
  },
  {
   "cell_type": "markdown",
   "metadata": {},
   "source": [
    "### UDP\n",
    "- User Datagram Protocol\n",
    "- 데이터그램: 비연결 지향형\n",
    "- SOCK_DGRAM\n",
    "\n",
    "#### UDP 메소드\n",
    "- recvfrom(int length): byte의 길이 만큼 다른 소켓에서 보낸 값을 받아온다.(하지만 length의 길이 만큼 가져온다는 보장은 없다.)\n",
    "- sendto(byte[] packet, clientAddress): 해당 주소를 가진 client에게 byte[]을  보낸다."
   ]
  },
  {
   "cell_type": "code",
   "execution_count": 22,
   "metadata": {},
   "outputs": [],
   "source": [
    "host = \"192.168.1.112\"\n",
    "port = 12000"
   ]
  },
  {
   "cell_type": "code",
   "execution_count": 23,
   "metadata": {},
   "outputs": [
    {
     "name": "stdout",
     "output_type": "stream",
     "text": [
      "The server is ready to receive\n",
      "close\n",
      "hello4\n"
     ]
    }
   ],
   "source": [
    "serverSocket = socket(AF_INET, SOCK_DGRAM)\n",
    "try:\n",
    "    serverSocket.bind((host, port)) # 소켓의 host와 port를 지정해준다.\n",
    "    print(\"The server is ready to receive\")\n",
    "\n",
    "    while True:\n",
    "        message, clientAddress = serverSocket.recvfrom(2048)\n",
    "        modifiedMessage = message.decode().upper()\n",
    "        serverSocket.sendto(modifiedMessage.encode(),clientAddress)\n",
    "        \n",
    "        if(message.decode() == \"close\"):\n",
    "            break\n",
    "              \n",
    "    print(message.decode())\n",
    "except Exception as e:\n",
    "    print(\"Error: \",e)\n",
    "serverSocket.close()"
   ]
  },
  {
   "cell_type": "markdown",
   "metadata": {},
   "source": [
    "### TCP\n",
    "- Transmission Control Protocol\n",
    "- 스트림: 연결 지향형\n",
    "- SOCK_STREAM\n",
    "\n",
    "#### TCP 메소드\n",
    "- recv(int length): byte의 길이 만큼 다른 소켓에서 보낸 값을 받아온다.(recvfrom처럼 address를 지정할 수 없기 때문에 미리 소켓끼리 연결해 주어야 한다.)\n",
    "- send(byte[] packet, clientAddress): 해당 주소를 가진 client에게 byte[]을  보낸다.\n",
    "- listen(int number): \n",
    "    - 클라이언트들이 접근을 할때 수신 대기열을 만들어서 몇개의 클라이언트를 대기 시킬지 설정.\n",
    "- accpet(): 클라이언트의 연결을 기달린다."
   ]
  },
  {
   "cell_type": "code",
   "execution_count": 36,
   "metadata": {},
   "outputs": [
    {
     "name": "stdout",
     "output_type": "stream",
     "text": [
      "The server is ready to receive\n",
      "close\n"
     ]
    }
   ],
   "source": [
    "serverSocket = socket(AF_INET,SOCK_STREAM)\n",
    "try:\n",
    "    serverSocket.bind((host,port))\n",
    "    serverSocket.listen(1)\n",
    "    print(\"The server is ready to receive\")\n",
    "    while True:\n",
    "        clientSocket, addr = serverSocket.accept()\n",
    "        message = clientSocket.recv(1024).decode()\n",
    "        print(message)\n",
    "        if(message == \"close\"):\n",
    "            clientSocket.close()\n",
    "            break\n",
    "        clientSocket.send(message.encode())\n",
    "        clientSocket.close()\n",
    "except Exception as e:\n",
    "    print(\"Error:\",e)\n",
    "serverSocket.close()"
   ]
  }
 ],
 "metadata": {
  "kernelspec": {
   "display_name": "Python 3",
   "language": "python",
   "name": "python3"
  },
  "language_info": {
   "codemirror_mode": {
    "name": "ipython",
    "version": 3
   },
   "file_extension": ".py",
   "mimetype": "text/x-python",
   "name": "python",
   "nbconvert_exporter": "python",
   "pygments_lexer": "ipython3",
   "version": "3.7.3"
  }
 },
 "nbformat": 4,
 "nbformat_minor": 2
}
