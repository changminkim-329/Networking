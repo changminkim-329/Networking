{
 "cells": [
  {
   "cell_type": "markdown",
   "metadata": {},
   "source": [
    "## 네트워킹 이란\n",
    "### - 두 대 이상의 컴퓨터를 케이블로 연결하여 네트워크를 구성하는 것.\n",
    "### - 컴퓨터들을 서로 연결하여 데이터 손쉽게 주고받거나 또는 자원 프린터와 같은 주변기기을 함께 공유.\n",
    "\n",
    "### 1 호스트/클라이언트/ 서버\n",
    "- 호스트: 네트워크에 연결되어 있는 모든 컴퓨터들.<br>\n",
    "    ex)<br>\n",
    "    네이버 호스트 이름: https://naver.com\n",
    "    네이버 호스트 번호: 210.89.160.88\n",
    "    \n",
    "- localhost(지역 호스트): 컴퓨터 네트워크에서 사용하는 루프백 호스트명으로, 자신의 컴퓨터를 의미한다. \n",
    "    - 번호: 127.0.0.1\n",
    "- 서버: 서비스를 제공하는 컴퓨터.\n",
    "    - 서비스를 제공하기 위해 서버프로그램 필요.\n",
    "- 클라이언트: 서비스를 받는 컴퓨터.\n",
    "    - 서비스를 제공받기 위해 클라이언트프로그램 필요.ex) 사파리, 크롬, 익스플로어\n",
    "    \n",
    "서버기반 모델: 네트워크를 구성할 때 전용서버를 두는 것.\n",
    "    - 안정적인 서비스의 제공 가능\n",
    "    - 관리 비용 큼.\n",
    "\n",
    "P2P 모델: 별도의 전용서버 없이 각 클라이언트가 서버역할을 동시에 수행하는 것.\n",
    "    - 보안이 취약함\n",
    "    - 자원의 관리가 어려움.\n",
    "    - 자원의 활용을 극대화 할 수 있음.\n",
    "    - 서버구축 및 운용비용을 절감할 수 있음.\n",
    "    \n",
    "### URL(Uniform Resource Locator)\n",
    "- 여러 서버들이 제공하는 자원에 접근할 수 있는 주소.\n",
    "- 형식: 프로토콜://호스트명:포트번호/경로명/파일명?쿼리스트링#참조<br>\n",
    "ex) http://www.codechobo.com:80/sample/hello.html?referer=codechobo#index1<br>\n",
    "프로토콜 : 자원에 접근하기 위해 서버와 통신하는 데 사용되는 통신규약(https)<br>\n",
    "호스트명 : 자원에 제공하는 서버의 이름(www.codechobo.com)<br>\n",
    "포트번호 : 통신에 사용되는 서버의 포트번호(80)<br>\n",
    "경로명  : 접근하려는 자원이 저장된 서버상의 위치(/sample/)<br>\n",
    "파일명 : 접근하려는 자원의 이름(hello.html)<br>\n",
    "쿼리 : url에서 '?'이후의 부분(refer=codechobo)\n",
    "참조 : url에서 '#'이후의 부분(index1)\n",
    "\n",
    "\n"
   ]
  },
  {
   "cell_type": "markdown",
   "metadata": {},
   "source": [
    "## Network의 구조\n",
    "\n",
    "### - 통신 네트워크(Communication Network)\n",
    "- 떨어져 있는 두개 이상의 단말(컴퓨터, node등)간에 통신(데이터의 주고받음)을 위하여 연결해 주는 장비 와\n",
    "연결 매체 그리고 이것을 제어하는 통신규약(Protocal)을 말한다.\n",
    "\n",
    "### 네트워크의 물리적인 구조\n",
    "- 단말(Node)들과 그 단말을 이어주는 연결선로(Link)로 이루어져있다.\n",
    "- 단말(Node)는 **최종장비(End node, Station)**와 **중계장비(Interconnecting node)**로 이루어 진다.\n",
    "    - 최종장비(End node, Station): 그 환경에 따라 ternimal이나 host를 말한다.\n",
    "    - 중계장비(Interconnecting node): 특성에 따라 Repeater, Hub, Bridge Switch, Router등 다양하게 존재한다.\n",
    "    \n",
    "- **연결선로(Link)**는 특성에 따라 Simplex(단방향), Half-duplex(반이중), Full-duplex(전이중)으로 나뉜다.\n",
    "    - Simplex: 한쪽으로 밖에 데이터를 이동할 수 없다.\n",
    "        - ex) 모니터, 키보드, Tv \n",
    "    - Half-duplex: 양방향 통신이 가능하지만, 한번 이동시에 한쪽으로만 이동이 가능\n",
    "        - ex) 무전기\n",
    "    - Full-duplex: 양방향 전송이 가능.\n",
    "        - 전화기, 컴퓨터, 스마트폰\n",
    "    \n",
    "### 네트워크의 토폴로지(Topology)\n",
    "- 컴퓨터 네트워크의 요소들(링크, 노드)를 물리적으로 연결하는 방식\n",
    "- 종류\n",
    "    - 버스\n",
    "    - 메시\n",
    "    - 링(repeater 이용)\n",
    "    - 스타(hub 이용)\n",
    "    - 트리\n",
    "\n"
   ]
  },
  {
   "cell_type": "code",
   "execution_count": null,
   "metadata": {},
   "outputs": [],
   "source": []
  },
  {
   "cell_type": "markdown",
   "metadata": {},
   "source": [
    "## 프로토콜 디자인\n",
    "- 프로토콜: 컴퓨터 네트워크에서 데이터를 주고 받을 때 수행되는 절차 규격.\n",
    "    - 기능: 주소지정(MAC, IP, PORT)\n",
    "- 크게 OSI 7게층과 TCP/IP 4계층으로 나뉜다.\n",
    "\n",
    "### OSI 7계층\n",
    "- Open Systems Interconnection Reference Model)\n",
    "- 국제 표준화기구(OSI)에서 개발하여 컴퓨터 네트워크 프로토콜 디자인 및 통신을 7계층으로 나뉜 역사가 있는 프로토콜.\n",
    "- 프로토콜을 기능별로 나눈것.\n",
    "- 1-3계층: 하드웨어 계층, 4-7: 소프트웨어 계층.\n",
    "\n",
    "#### 1계층 물리계층(Physical Layer)\n",
    "- 네트워크의 하드웨어 전송기술을 말함.\n",
    "- 하드웨어적으로 전기적 신호를 주고 받으므로 가장 복잡함.\n",
    "- 랜선, 리피터(Repeater), 허브(Hub)의 장비가 해당 계층에서 동작.\n",
    "\n",
    "#### 2계층 데이터 링크 계층(Data Link Layer)\n",
    "- 컴퓨터 간에 데이터를 전송하면 환경에 따라 잡음이나 간섭 등의 물리적 전송 오류를 복구하는 기술.\n",
    "- 네트워크 개체들간 데이터를 전달하고, 하위계층인 물리계층에서 발생할 수 있는 오류 발견.\n",
    "- 기능\n",
    "    - 오류제어 기능(CRC기반):전송되는 데이터의 물리거적 전송 오류를 감지하고 복구.\n",
    "    - 흐름제어 기능: 전송되는 데이터의 흐름을 조절하는 흐름제어 기능을 수행\n",
    "- 주소값 MAC address(맥 주소)를 생산과정에서 물리적으로 할당받는다.\n",
    "- 해당계층 장비: Swiching, Bridge \n",
    "- 프레임(Frame): 2계층에서 흐르는 데이터단위\n",
    "- MAC\n",
    "\n",
    "#### 3계층 네트워크 계층(Network Layer)\n",
    "- 데이터가 전소오디는 네트워크 경로는 환경에따라 시간대별 또는 각 구간별로 혼잡도가 달라질 수 있다.\n",
    "- 여러개의 노드를 거칠 때마다 최적의 경로를 찾아주는 역활을 하는 계층.\n",
    "- 해당계층 장비: 라우터\n",
    "- 해당 프로토콜: IP\n",
    "\n",
    "#### 4계층 전송 계층(Transport Layer)\n",
    "- 양 끝단(End to end) 종단간의 사용자들의 신뢰성있는 정보 전송을 보장한다.\n",
    "- 패킷(Packet)들의 전송이 유효한지 확인하고 전송실패시 다시 전송하는 것을 관리.\n",
    "- 데이터의 오류검출, 복구, 흐름제어, 중복검사를 수행.\n",
    "- 해당 프로토콜: TCP\n",
    "\n",
    "#### 5계층 세션 계층(Session Layer)\n",
    "- 송수신 컴퓨터의 응용 프로그램 간 네트워크 대화 제어와 동기화를 유지하는 기능을 수행한다.\n",
    "- 양 끝단(End to end)의 응용 프로세스가 통신을 관리하기 위한 방법을 제공\n",
    "- 통신을 하기 위한 세션을 유지하고 만들고 중단.\n",
    "- TCP/IP 세션을 만들고 없앤다.\n",
    "\n",
    "#### 6계층 표현 계층(Presentation Layer)\n",
    "- 송수신 컴퓨터의 응용프로그램 간 송수신되는 데이터의 구문과 의미에 관련된 기능으로 변환, 암호화, 압축을 수행.\n",
    "    - 변환: 다른 부호화 방식을 사용하는 컴퓨터 간의 상호 호환성을 제공\n",
    "    - 암호화: 데이터를 암호화 알고리즘으로 데이터를 변조.\n",
    "    - 압축: 비트 수를 줄여서 전송하는 기능.\n",
    "\n",
    "#### 7계층 응용 계층(Application Layer)\n",
    "- 응용 프로세스와 직접 연관하여 응용 서비스 수행\n",
    "- ex) Explorer, chrome, safari\n",
    "\n",
    "\n",
    "\n",
    "### TCP/IP 4계층\n",
    "- OSI의 7계층을 4단계로 바꾼 프로토콜.\n",
    "- TCP/IP의 1계층 Network Acess: OSI의 1,2 계층(믈리, 데이터 링크 계층)\n",
    "- TCP/IP의 2계층 Internet: OSI의 3계층(네트워크 계층)\n",
    "- TCP/IP의 3계층 Transport: OSI의 4계층(전송 계층)\n",
    "- TCP/IP의 4계층 Application: OSI의 5,6,7 계층(세션, 표현, 응용 계층)\n",
    "\n"
   ]
  },
  {
   "cell_type": "code",
   "execution_count": null,
   "metadata": {},
   "outputs": [],
   "source": []
  },
  {
   "cell_type": "markdown",
   "metadata": {},
   "source": [
    "IP(Internet Protocol)은 신뢰성 없는 비연결형(전화같은 연결형이 아닌 이메일처럼 현재 연결상태필요 없는)프로토콜로서 보장은 하지 않으며, 복구, 추적도 없고 데이터손실이나 뒤섞인 상태전송이 있다는 가정을 하고 주고 받는 통신규정.\n",
    "-> 보다 신뢰성 있고 효율성이 있는 protocol를 계발\n",
    "- TCP/IP, UDP/IP\n",
    "\n",
    "인터넷: 라운터에 의해 연결된 네트워크\n",
    "\n",
    "#### TCP\n",
    "- Transmission Control Protocol\n",
    "- 데이터 전달을 관리하는 규칙\n",
    "- 데이터를 작게 나누어서(패킷) 한쪽에서 다른쪽으로 옮기고, 이를 다시 조립하여 원래의 데이터를 만드는 규칙(조립하면서 손실된 패킷을 다시 확인하고, 재전송하도록 요청하는 기능).\n",
    "- UDP 보다 에러검출, 재전송등 신뢰 할 수 있는 통신(속도가 느림).\n",
    "\n",
    "#### UDP\n",
    "- User Datagram Protocol\n",
    "- TCP보다 빠른 전송(통신중 데이터를 잃어도 오류발생 안함)\n",
    "\n",
    "#### TCP/IP\n",
    "- TCP규약과 IP규약을 합친 웹상에서 사용하는 규약.\n",
    "\n",
    "일반적으로 인터넷에 연결된 pc나 단말이나 호스트는 아래와 같은 3개의 주소를 가진다.\n",
    "#### IP_Address(인터넷주소): \n",
    "- 인터넷에 연결된 기기를 식별하는 유일한 주소번호(컴퓨터의 위치)\n",
    "- 다른 네트워크간에 호스트(pc, 단말기)를 식별하는 논리주소.\n",
    "- IPv4: 4개의 8bit로 나타낸다.\n",
    "    - 192.168.1.139 == 11000000.10101000.00000001.10001011\n",
    "    \n",
    "    \n",
    "- IPv6: 6개의 16bit로 나타낸다.\n",
    "- MAC주소를 기반으로 IP번호를 만든다(MAC 주소가 없으면 IP를 할달할 수 없다.)\n",
    "\n",
    "#### PORT_Number(포트주소): \n",
    "- 접속된 다수의 프로세스를 식별하는 번호(컴퓨터내의 프로그램의 위치)\n",
    "- 16bit: 범위 0 ~ 65535\n",
    "- 0~1023: 규정된 포트로 건들리면 안된다.\n",
    "\n",
    "|포트번호|서비스|\n",
    "    |---|---|\n",
    "    |7|echo|\n",
    "    |13|Daytime|\n",
    "    |21,23|FTP,Telent|\n",
    "    |25|SMTP|\n",
    "    |80|HTTP|\n",
    "    \n",
    "    - 1024~49151: 규정되지않는 포트.\n",
    "#### MAC(물리주소): \n",
    "- Media Access Control Address\n",
    "- 하나의 네트워크내에서 호스트를 식별하는 물리적 주소.\n",
    "- 48bit"
   ]
  },
  {
   "cell_type": "code",
   "execution_count": null,
   "metadata": {},
   "outputs": [],
   "source": []
  },
  {
   "cell_type": "markdown",
   "metadata": {},
   "source": [
    "클라이언트 소켓(Client Socket)과 서버 소켓(Server Socket)이 태생적으로 구조가 다른, 전혀 별개의 소켓(Socket)인 것처럼 여겨질 수 있다. 하지만 두 소켓(Socket)은 동일합니다. 소켓의 역할과 구현 절차 구분을 위해 다르게 부르는 것일 뿐, 전혀 다른 형태의 소켓이 아니라는 것이죠. 단지 역할에 따라 처리되는 흐름, 즉, 호출되는 API 함수의 종류와 순서들이 다를 뿐입니다."
   ]
  },
  {
   "cell_type": "code",
   "execution_count": null,
   "metadata": {},
   "outputs": [],
   "source": []
  },
  {
   "cell_type": "markdown",
   "metadata": {},
   "source": [
    "### 내부 ip/외부 ip\n",
    "\n",
    "#### 내부 ip\n",
    "- 집 안(하나의 wifi or 허브)에 형성된 네트워크가 내부 네트워크이며, 이 네트워크 안에 있는 기기가 할당받은 ip가 내부 ip이다.\n",
    "- 내부 ip를 사설ip라고 한다.\n",
    "- 사설 ip는 공인 ip처럼 외부에서 해당 네트워크에 접속할 수 없는 내부 네트워크에서만 쓸수 있는 ip이다.(해당 ip에 접속하려는 해당 네트워크에 있어야 된다.)\n",
    "\n",
    "#### 외부 ip\n",
    "- 집 밖(케이블 모뎀 ex) kt홈허브:유무선공유기)에 형성되어 있는 네트워크가 외부 네트워크이며, 이 외부 네트워크로 나갈 수 있도록 통로가 되어 주는 기기의 ip가 외부 ip이다.\n",
    "- 외부 ip는 고정ip가 아니라 거의 바뀌지 않는 유동 ip이다.\n",
    "- 외부 ip는 ISP(Internet Service Provider ex) kt,sk,lg)의 큰 외부 네트워크안에 있는 하나의 라우터 주소일 뿐이며 유동 ip이다.\n",
    "- 외부 ip를 공인ip라고 한다.\n",
    "- 공인 ip는 외부에서 해당 네트워크에 접속할 수 있도록 공개되는 ip주소라는 의미 이다."
   ]
  },
  {
   "cell_type": "markdown",
   "metadata": {},
   "source": [
    "### 공인 ip/사설 ip\n",
    "![](https://media.vlpt.us/post-images/noyo0123/d48baef0-f353-11e9-82fb-f1a0dfd61574/image.png)\n",
    "\n",
    "> #### 예를 들어 인터넷 공유기( 예) IPTIME )가 한 대 있다고 가정하면, 공유기와 이 공유기에 연결되어 있는 모든 컴퓨터는 하나의 네트워크에 속하게 된다.\n",
    "> #### 하나의 네트워크 즉, LAN에 연결되어 있는 모든 장치들은 사설IP를 할당받게 되고, 각 장치 사이에 통신은 사설IP를 통해서 이루어지게 된다.\n",
    "> #### 공유기가 인터넷에 연결되어 있는 경우, 공유기는 인터넷으로부터 할당받은 공인IP를 이용하여 인터넷과 통신하게 된다.\n",
    "#### 공인 ip\n",
    "- 인터넷 상에서 서로 다른 pc끼리 통신하기 위해 필요한 ip로서, 홈페이지 서버를 구축한다던지 각자의 pc에 인터넷을 연결한다던지 등의 인터넷을 통한 통신을 하기 위한 ip.\n",
    "- 공인 ip는 각 나라들 마다 관리하는 기관이 있는데 우리나라는 한국인터넷진흥원에서 관리하고 있음.\n",
    "- 세상에서 단 하나뿐인 ip.\n",
    "\n",
    "#### 사설 ip\n",
    "- 내부 네트워크 상에서 각 컴퓨터간 통신을 하기 위한 ip로서, 외부망인 인터넷과 연결이 되는 ip는 내부망을 구축할 때 활용하는 ip.\n",
    "- 대표적인 예): 공유기를 활용한 망구성.\n",
    "- 보통: 192.168.x.x로 구성됨.\n",
    "- 사설아이픈 내부망에서만 사용되기 때문에 서로 다른 내부망에서는 동일한 사설아이피를 구성하더라도 상관 없음."
   ]
  },
  {
   "cell_type": "markdown",
   "metadata": {},
   "source": [
    "![](https://mblogthumb-phinf.pstatic.net/20111014_164/xcripts_13185931602521hxgp_JPEG/isp.jpg?type=w2)"
   ]
  },
  {
   "cell_type": "code",
   "execution_count": null,
   "metadata": {},
   "outputs": [],
   "source": []
  },
  {
   "cell_type": "markdown",
   "metadata": {},
   "source": [
    "## 허브/공유기/AP 차이\n",
    "\n",
    "### 공유기\n",
    "![](https://t1.daumcdn.net/cfile/tistory/232114385932AF6E32)\n",
    "- 여러 컴퓨터가 하나의 인터넷 라인을 공유해 동시에 인터넷을 사용할 수 있게 만든 기기.\n",
    "- ip 주소를 할당하는 장치\n",
    "- 무선랜을 구성하는 장치중 하나로, 유선랜과 무선랜을 연결시켜주는 장치.\n",
    "- 최대 255개의 가상 ip를 할당 할 수 있다.\n",
    "- 공유기는 기본적으로 xxx.xxx.xxx.1의 주소를 가짐 ex) iptime: 192.168.0.1\n",
    "- 공유기는 한개의 WAN포트와 여러개의 LAN포트가 있음\n",
    "    - WAN: 인터넷이 되는 공유기의 입력선\n",
    "    - LAN: \n",
    "- wifi 공유기 (wifi + 공유기)\n",
    "- **NAT** 기능 가지고 있음\n",
    "\n",
    "#### NAT(Network Address Translation)\n",
    "- 네트워크 주소 변환: 사설 ip를 공인 ip로 변환해주는 기술.\n",
    "- 사설 네트워크에 속한 여러 개의 기기(호스트)가 하나의 공인 ip주소를 사용하여 인터넷에 접속하기 위해서 사용.\n",
    "\n",
    "\n",
    "### AccessPoint \n",
    "![](https://lh3.googleusercontent.com/proxy/Gcze9ItDKGE3wtY0A89uDf8EiWAzT9zXFIIwBTAcL7ZaUo3EgB0bGL2UV63tAFBGmAUIPiz2lowHH5dDJKLHwt7aFliogy18Ewd52gN6vIwlxPBA-IsOp9dK0Jr0MKNK0dOn838QG5PC0ZG91vfWx-2a2xOdiXjgnHh9hKgPCvA7m_k4hUml9Ikzmgwmc8mvDLGRp68_XC6_JTrN-d35pO0rVMDtWbD830VN3Ycxr879UYSXXYRPB8nFNXkm-RJt3QyF8YOW8ufmwRM03eIiMoua9DVGSzUVFrrBNSnv2QgGk4bkkjLm8OFxqYY1Y1rKw7ko69WlwtF7mf4kVK9KT0RT3UN-EmBtBuTmOrAmB2iCTjuwo2TgOyASfXwNv9rdsCkY_xqQ2oCv)\n",
    "- 무선 WIFI 신호를 뿌려주는 장비(유선에서 무선신호로 바꾸어 주는 기기)\n",
    "- 유무선 기능중 무선기능만 있는 제품.\n",
    "- 사용이유: 공유기에 비해 사용인원, 거리, 설정, 편의성등이 일반 공유기 보다 월등.\n",
    "- 타입\n",
    "    - Bridge Type : 데이터 전송의 중계역할을 하는 기기로 유선랜의 허브에 가까운 기능\n",
    "    - Router Type : 라우팅 및 NAT기능 등을 갖춘 기기로, 다른 네트워크(Internet, Private Network등)의 중매 역할을 하는 기능\n",
    "- 기능:\n",
    "    - Point To Point\n",
    "        - AP의 브릿지 모드\n",
    "\n",
    "- NAT기능이 없어 사설 ip할당을 못한다. -> **DHCP** 서버 필요\n",
    "        \n",
    "#### DHCP\n",
    "- DHCP: Dynamic Host Configuration Protocol(동적 호스트 구성 프로토콜)\n",
    "- 호스트 ip 구성 관리를 단순화하는 ip표준\n",
    "- 호스트의 IP주소와 각종 TCP/IP 프로토콜의 기본 설정을 클라이언트에게 자동적으로 제공해주는 프로토콜\n",
    "\n",
    "    \n",
    "### 허브\n",
    "![](https://t1.daumcdn.net/cfile/tistory/270B584259329A8718)\n",
    "- ip를 분배하는 장치\n",
    "- ip를 할당하는 기능이 없고 여러 개의 장치가 인터넷이 되도록 보다 많은 포트를 제공하는 기능\n",
    "- 전기적인 신호를 증폭시켜 LAN의 전송거리를 연장시키고, 여러 대의 디바이스를 연결해 네트워크를 만들어주는 장비.\n",
    "- OSI 1 계층(물리계층)에 해당\n",
    "- 구멍이 N 뚤려 있느냐에 따라 \"N 포트 허브\"라고 한다. \n",
    "- 같은 허브에 연결이 되어 있다면, pc들은 서로 통신 가능\n",
    "- wan포트가 없고 lan포트만 있음"
   ]
  },
  {
   "cell_type": "code",
   "execution_count": null,
   "metadata": {},
   "outputs": [],
   "source": []
  },
  {
   "cell_type": "markdown",
   "metadata": {},
   "source": [
    "### 트랜스 포트 계층\n",
    "- 양 끝단(End to end) 종단간의 사용자들의 신뢰성있는 정보 전송을 보장한다.\n",
    "- 패킷(Packet)들의 전송이 유효한지 확인하고 전송실패시 다시 전송하는 것을 관리.\n",
    "- 데이터의 오류검출, 복구, 흐름제어, 중복검사를 수행.\n",
    "- 해당 프로토콜: TCP, UDP\n",
    "- 프로세스 소켓이 트랜스 포트 역할을 담당한다.\n",
    "- 트랜스포트 계층의 프로토콜은 네트워크의 가장자리 단에 위치하기 때문에 네트워크 라우터가 아닌 종단 시스템(host: 컴퓨터)에서 구현\n",
    "- 애플리케이션이 수,송신한 메시지를 트랜스포트 계층 패킷으로 캡슐화해 상,하위 계층으로 전달\n",
    "\n",
    "#### 트랜스 포트 계층 vs 네트워크 계층 \n",
    "- 트랜스포트 계층 프로토콜은 서로 다른 호스트에서 동작하는 프로세스들 사이의 논리적 통신을 제공하지만, 네트워크 계층 프로토콜은 호스트들 사이의 논리적 통신을 제공한다.\n",
    "- ex) 한 가정에서 가족 구성원들이 보낸 편지를 모아서 우편 배달원에게 전달해주는 사람의 역할은 트랜스포트 계층 프로토콜의 역할과 같다. 모아진 편지를 목적지의 가정에 전달해주는 우편집배원의 역할이 네트워크 계층 프로토콜의 역할이라고 할 수 있다.\n",
    "\n",
    "#### 다중화\n",
    "- 송신측 호스트에서 데이터를 모아 헤더 정보(각각의 프로세스 소켓의 식별자필드)를 통해 캡슐화하고 이를 목적지에 전달하기 위해 네트워크 계층으로 넘겨주는 것\n",
    "\n",
    "#### 역다중화\n",
    "- 수신측 호스트에서 송신측이 보낸 데이터를 받아 트랜스포트 계층 세그먼트에서 소켓을 구분하는 식별자필드(외부포트번호,내부포트번호)를 포함하고 있는데, 트랜스포트 계층이 이 필드를 통해 소켓을 식별하고 알맞게 분배해주는 것\n",
    "\n",
    "#### UDP \n",
    "- DataGramProtocol(비연결 트랜스포트)\n",
    "- 메시지가 잘 전달되는 것을 보장해주지 않고, 순서대로 도착함을 보장해주지 않는다.\n",
    "- 문제점은 많지만 많은 네트워크 애플리케이션들이 메세지를 전송할 때 UDP프로토콜을 사용한다.\n",
    "    - 연결 설정(connect)이 없어 빠르게 동작\n",
    "    - 연결 상태를 유지하지 않아 더 많은 클라이언트와 통신\n",
    "    - 패킷의 헤더가 작아 오버헤드(간접시간) 또한 작다.\n",
    "    - 애플리케이션 레벨에서 데이터의 전송률을 더 정교하게 제어할 수 있다\n",
    "- ex) 스트리밍 서비스(SNMP), DNS\n",
    "- 또한 **체크섬**을 이용한 간단한 오류 검출을 제공.\n",
    "- 체크섬: 송신측은 데이터그램과 데이터그램의 보수를 같이 보내, 수신측은 데이터그램과 그 보수를 더해 11111의 값을 넣는다. 만약 하나라도 0이 있으면 오류가 있는 것으로 판단\n",
    "\n",
    "#### TCP\n",
    "- To Connection-oriented Protocol(연결 지향 트랜스포트)\n",
    "- 프로세스가 다른 프로세스에게 메시지를 보내기 전에 두 프로세스가 **핸드 셰이크**를 먼저 해야 한다는 것\n",
    "- 두 호스트 간의 데이터 연결이 두 방향으로 동시에 흐를 수 있으므로 전이중(full-duplex) 서비스'를 제공"
   ]
  },
  {
   "cell_type": "code",
   "execution_count": null,
   "metadata": {},
   "outputs": [],
   "source": []
  },
  {
   "cell_type": "markdown",
   "metadata": {},
   "source": [
    "### 네트워크 계층\n",
    "- 데이터가 전소오디는 네트워크 경로는 환경에따라 시간대별 또는 각 구간별로 혼잡도가 달라질 수 있다.\n",
    "- 여러개의 노드를 거칠 때마다 최적의 경로를 찾아주는 역활을 하는 계층.\n",
    "- 해당계층 장비: 라우터\n",
    "- 해당 프로토콜: IP\n",
    "\n",
    "#### 트랜스 포트 계층 vs 네트워크 계층 \n",
    "- 트랜스포트 계층 프로토콜은 서로 다른 호스트에서 동작하는 프로세스들 사이의 논리적 통신을 제공하지만, 네트워크 계층 프로토콜은 호스트들 사이의 논리적 통신을 제공한다.\n",
    "- ex) 한 가정에서 가족 구성원들이 보낸 편지를 모아서 우편 배달원에게 전달해주는 사람의 역할은 트랜스포트 계층 프로토콜의 역할과 같다. 모아진 편지를 목적지의 가정에 전달해주는 우편집배원의 역할이 네트워크 계층 프로토콜의 역할이라고 할 수 있다.\n",
    "\n",
    "#### 데이터 평면\n",
    "- 라우터의 입,출력 링크 과정을 다루는 부분\n",
    "- **포워딩**\n",
    "\n",
    "#### 포워딩\n",
    "- 패킷이 라우터의 입력 링크에 도달했을 때 그 패킷을 적절한 출력 링크(다음 라우터)로 이동시키는 것.\n",
    "\n",
    "\n",
    "#### 제어 평면\n",
    "- 어떤 경로를 통해 통신을 구성할 것인지를 다루는 부분\n",
    "- **라우팅**\n",
    "\n",
    "#### 라우팅\n",
    "- 송신자가 수진자에게 패킷을 전송할 때, 어떤 라우팅 경로를 통해 전송할 것인지를 결정하는 것.\n",
    "- **라우팅 알고리즘**을 이용하여 포워딩 테이블을 만드는 과정\n",
    "- 라우팅(포워딩) 테이블은 네트워크 상태변화(연결이 끓기거나 어떤 경로의 비용/속도가 변했다거나)에 따라 갱신되어야 한다. "
   ]
  },
  {
   "cell_type": "code",
   "execution_count": null,
   "metadata": {},
   "outputs": [],
   "source": []
  },
  {
   "cell_type": "markdown",
   "metadata": {},
   "source": [
    "## DHCP\n",
    "![](https://www.digitalcitizen.life/sites/default/files/gdrive/dhcp/dhcp_1.png)\n",
    "- Dynamic Host Configuration Protocol: 동적 호스트 구성 프로토콜\n",
    "- 호스트의 IP주소와 각종 TCP/IP 프로토콜의 기본 설정을 클라이언트에게 자동적으로 제공해주는 프로토콜\n",
    "- DHCP서버가 이 역할을 수행(클라이언트/서버 프로토콜)\n",
    "- 공유기에는 DHCP기능이 들어 있다.\n",
    "- 주로 사설ip(서브넷:로컬네트워크:사설망)을 구현할 때 쓰인다.\n",
    "- DHCP서버는 내부 네트워크에 존재한다.\n",
    "- 가정 같은 LAN에서는 라우터가 DHCP 서버 역할을 하지만, 대기업 같은 대규모 네트워크는 DHCP서버가 따로 존재한다."
   ]
  },
  {
   "cell_type": "code",
   "execution_count": null,
   "metadata": {},
   "outputs": [],
   "source": []
  },
  {
   "cell_type": "markdown",
   "metadata": {},
   "source": [
    "## NAT\n",
    "- Network Address Translation\n"
   ]
  },
  {
   "cell_type": "code",
   "execution_count": null,
   "metadata": {},
   "outputs": [],
   "source": []
  },
  {
   "cell_type": "markdown",
   "metadata": {},
   "source": [
    "## 외부 접속"
   ]
  },
  {
   "cell_type": "markdown",
   "metadata": {},
   "source": [
    "### 포트 포워딩"
   ]
  },
  {
   "cell_type": "code",
   "execution_count": null,
   "metadata": {},
   "outputs": [],
   "source": []
  },
  {
   "cell_type": "markdown",
   "metadata": {},
   "source": [
    "### 웹 도메인"
   ]
  },
  {
   "cell_type": "code",
   "execution_count": null,
   "metadata": {},
   "outputs": [],
   "source": []
  },
  {
   "cell_type": "markdown",
   "metadata": {},
   "source": [
    "### DDNS\n",
    "- Dynamic DNS(Domain Name System)\n",
    "- DNS: host 네임을 ip주소로 바꾸어 주는 시스템(서버)\n",
    "- 실시간으로 DNS를 갱신하는 방식\n",
    "- ip가 유동적인 경우 사용된다. \n",
    "- ip가 바뀌어도 ddns로 설정한 도메인값은 변하지 않기 때문에 용이하게 접속가능한다. \n",
    "\n",
    "- DDNS 등록 방법\n",
    "    - 특정 제품에서 DDNS를 지원하기 된다면 그 제품의 판매처나 제조 처가 될수 있고\n",
    "    - 아니면 다릅엡체를 이용하여 DDNS 서비스에 가입하고 클라이언트 프로그램을 설치해야 한다.\n",
    "    \n",
    "- 동작 과정\n",
    "    - 클라이언트 프로그램이 자동적으로 동적 ip주소를 DDNS 서버에 알려준다.(동적 ip주소가 바뀔시 자동으로 DDNS에게 알린다.)\n",
    "    - \n",
    "\n",
    "### IOT \n",
    "![](https://t1.daumcdn.net/cfile/tistory/234E6145547D55DE20)\n",
    "- DDNS의 단점\n",
    "    - **AP(AccessPoint)**가 공인 ip가 아닐 경우 혹인 ISP(Internet Service Provider) 내부의 다양한 환경문제로 DDNS 접속이 불가능한 경우가 다수 있음\n",
    "\n",
    "    - AP(AcessPoint)가 **UPnP** 또는 **FortForwarding**을 지원하지 않는 경우 접속 자체가 불가능하다.\n",
    "        - UPnP(Univeral Plug and Play): \n",
    "            - pc와 정보가전들 간에 p2p 연결을 위한 미들웨어\n",
    "            - 이미 검증된 네트워크. 프로토콜 및 웹 기술을 기반으로 홈 네트워크 기기간의 제어 모델 구현.\n",
    "    - UPnP,Port forwarding을 지원하지 않는 경우 접속자체가 불가능한 경우\n",
    "    - 보안환경문제로 외부인입 네트워크 포트를 ISP가 임의로 블로킹을 함으로써 생기는 문제\n",
    "    \n",
    "-\n",
    "![](https://www.itdaily.kr/news/photo/201704/82940_90199_019.png)\n"
   ]
  },
  {
   "cell_type": "code",
   "execution_count": 1,
   "metadata": {},
   "outputs": [
    {
     "data": {
      "text/plain": [
       "4294967296"
      ]
     },
     "execution_count": 1,
     "metadata": {},
     "output_type": "execute_result"
    }
   ],
   "source": [
    "2**32"
   ]
  },
  {
   "cell_type": "code",
   "execution_count": 1,
   "metadata": {},
   "outputs": [],
   "source": [
    "import socket"
   ]
  },
  {
   "cell_type": "code",
   "execution_count": 2,
   "metadata": {},
   "outputs": [
    {
     "data": {
      "text/plain": [
       "'210.89.160.88'"
      ]
     },
     "execution_count": 2,
     "metadata": {},
     "output_type": "execute_result"
    }
   ],
   "source": [
    "socket.gethostbyname(\"www.naver.com\")"
   ]
  },
  {
   "cell_type": "code",
   "execution_count": null,
   "metadata": {},
   "outputs": [],
   "source": []
  }
 ],
 "metadata": {
  "kernelspec": {
   "display_name": "Python 3",
   "language": "python",
   "name": "python3"
  },
  "language_info": {
   "codemirror_mode": {
    "name": "ipython",
    "version": 3
   },
   "file_extension": ".py",
   "mimetype": "text/x-python",
   "name": "python",
   "nbconvert_exporter": "python",
   "pygments_lexer": "ipython3",
   "version": "3.7.3"
  }
 },
 "nbformat": 4,
 "nbformat_minor": 2
}
