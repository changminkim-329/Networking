{
 "cells": [
  {
   "cell_type": "markdown",
   "metadata": {},
   "source": [
    "#### 주소체계\n",
    "___\n",
    "AF_INET: IPv4 인터넷 프로토콜\n",
    "___\n",
    "AF_INET6: IPv6 인터넷 프로토콜\n",
    "\n",
    "#### 소켓 타입\n",
    "___\n",
    "SOCK_STREAM: 스트림, TCP 프로토콜: 연결 지향형\n",
    "___\n",
    "SOCK_DGRAM: 데이터 그램, UDP 프로토콜: 비연결 지향형\n",
    "___"
   ]
  },
  {
   "cell_type": "code",
   "execution_count": 18,
   "metadata": {},
   "outputs": [],
   "source": [
    "from socket import *"
   ]
  },
  {
   "cell_type": "markdown",
   "metadata": {},
   "source": [
    "### UDP\n",
    "- User Datagram Protocol\n",
    "- 데이터그램: 비연결 지향형\n",
    "- SOCK_DGRAM"
   ]
  },
  {
   "cell_type": "code",
   "execution_count": 52,
   "metadata": {},
   "outputs": [],
   "source": [
    "host = \"192.168.1.112\"\n",
    "port = 12000"
   ]
  },
  {
   "cell_type": "code",
   "execution_count": 53,
   "metadata": {},
   "outputs": [
    {
     "name": "stdout",
     "output_type": "stream",
     "text": [
      "Input lowercase sentence:close\n",
      "CLOSE\n"
     ]
    }
   ],
   "source": [
    "clientSocket = socket(AF_INET, SOCK_DGRAM)\n",
    "try:\n",
    "    message = input(\"Input lowercase sentence:\")\n",
    "    clientSocket.sendto(message.encode(),(host,port)) # UTF-8로 encoding해서 보내주어야 된다.\n",
    "    \n",
    "    modifiedMessage, serverAddress = clientSocket.recvfrom(2048)\n",
    "    print(modifiedMessage.decode())\n",
    "\n",
    "\n",
    "except Exception as e:\n",
    "    print(\"Error: \",e)\n",
    "    clientSocket.close()\n",
    "\n",
    "clientSocket.close()"
   ]
  },
  {
   "cell_type": "code",
   "execution_count": null,
   "metadata": {},
   "outputs": [],
   "source": []
  },
  {
   "cell_type": "markdown",
   "metadata": {},
   "source": [
    "### TCP\n",
    "- Transmission Control Protocol\n",
    "- 스트림: 연결 지향형\n",
    "- SOCK_STREAM"
   ]
  },
  {
   "cell_type": "code",
   "execution_count": 58,
   "metadata": {},
   "outputs": [
    {
     "name": "stdout",
     "output_type": "stream",
     "text": [
      "Input lowercase sentence:close\n",
      "From Server: CLOSE\n"
     ]
    }
   ],
   "source": [
    "try:\n",
    "    clientSocket = socket(AF_INET,SOCK_STREAM)\n",
    "    clientSocket.connect((host,port))\n",
    "    message = input(\"Input lowercase sentence:\")\n",
    "    clientSocket.send(message.encode())\n",
    "    modifiedSentence = clientSocket.recv(1024)\n",
    "    print(\"From Server:\", modifiedMessage.decode())\n",
    "except Exception as e:\n",
    "    print(\"Error:\",e)\n",
    "clientSocket.close()"
   ]
  },
  {
   "cell_type": "code",
   "execution_count": null,
   "metadata": {},
   "outputs": [],
   "source": []
  }
 ],
 "metadata": {
  "kernelspec": {
   "display_name": "Python 3",
   "language": "python",
   "name": "python3"
  },
  "language_info": {
   "codemirror_mode": {
    "name": "ipython",
    "version": 3
   },
   "file_extension": ".py",
   "mimetype": "text/x-python",
   "name": "python",
   "nbconvert_exporter": "python",
   "pygments_lexer": "ipython3",
   "version": "3.7.3"
  }
 },
 "nbformat": 4,
 "nbformat_minor": 2
}
